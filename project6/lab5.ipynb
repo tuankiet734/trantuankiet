{
 "cells": [
  {
   "cell_type": "code",
   "execution_count": 42,
   "metadata": {},
   "outputs": [],
   "source": [
    "from pymongo import MongoClient\n",
    "from datetime import datetime\n"
   ]
  },
  {
   "cell_type": "code",
   "execution_count": 43,
   "metadata": {},
   "outputs": [],
   "source": [
    "#buoc 1: ket noi toi mongodb\n",
    "client = MongoClient('mongodb://localhost:27017/')\n",
    "client.drop_database('facebookData1')\n",
    "db = client['facebookData1']# chon csdl tiktok\n"
   ]
  },
  {
   "cell_type": "code",
   "execution_count": 44,
   "metadata": {},
   "outputs": [],
   "source": [
    "#buoc 2: tao cac collection\n",
    "users_collection = db['users']\n",
    "posts_collection = db['posts']\n",
    "comments_collection = db['comments']"
   ]
  },
  {
   "cell_type": "code",
   "execution_count": 45,
   "metadata": {},
   "outputs": [
    {
     "data": {
      "text/plain": [
       "InsertManyResult([ObjectId('670ddef54710bc6878243a84'), ObjectId('670ddef54710bc6878243a85'), ObjectId('670ddef54710bc6878243a86')], acknowledged=True)"
      ]
     },
     "execution_count": 45,
     "metadata": {},
     "output_type": "execute_result"
    }
   ],
   "source": [
    "#buoc 3 them du lieu vao user\n",
    "user_data = [\n",
    "    { 'user_id': 1, 'name': \"Nguyen Van A\", 'email': \"a@gmail.com\", 'age': 25 },\n",
    "    { 'user_id': 2, 'name': \"Tran Thi B\", 'email': \"b@gmail.com\", 'age': 30 },\n",
    "    { 'user_id': 3, 'name': \"Le Van C\", 'email': \"c@gmail.com\", 'age': 22 }\n",
    "]\n",
    "users_collection.insert_many(user_data)"
   ]
  },
  {
   "cell_type": "code",
   "execution_count": 46,
   "metadata": {},
   "outputs": [
    {
     "data": {
      "text/plain": [
       "InsertManyResult([ObjectId('670ddef54710bc6878243a87'), ObjectId('670ddef54710bc6878243a88'), ObjectId('670ddef54710bc6878243a89')], acknowledged=True)"
      ]
     },
     "execution_count": 46,
     "metadata": {},
     "output_type": "execute_result"
    }
   ],
   "source": [
    "#buoc 4 them du lieu vao comments\n",
    "comments_data = [\n",
    "    { 'comment_id': 1, 'post_id': 1, 'user_id': 2, 'content': \"Thật tuyệt vời!\", 'created_at': datetime(2024,10,1) },\n",
    "    { 'comment_id': 2, 'post_id': 2, 'user_id': 3, 'content': \"Mình cũng muốn xem bộ phim này!\", 'created_at': datetime(2024,10,2) },\n",
    "    { 'comment_id': 3, 'post_id': 3, 'user_id': 1, 'content': \"Cảm ơn bạn!\", 'created_at': datetime(2024,10,3) }\n",
    "]\n",
    "comments_collection.insert_many(comments_data)"
   ]
  },
  {
   "cell_type": "code",
   "execution_count": 47,
   "metadata": {},
   "outputs": [
    {
     "data": {
      "text/plain": [
       "InsertManyResult([ObjectId('670ddef54710bc6878243a8a'), ObjectId('670ddef54710bc6878243a8b'), ObjectId('670ddef54710bc6878243a8c')], acknowledged=True)"
      ]
     },
     "execution_count": 47,
     "metadata": {},
     "output_type": "execute_result"
    }
   ],
   "source": [
    "#buoc5 them du lieu vao posts\n",
    "posts_data = [\n",
    "    { 'post_id': 1, 'user_id': 1, 'content': \"Hôm nay thật đẹp trời!\", 'created_at': datetime(2024,10,1) },\n",
    "    { 'post_id': 2, 'user_id': 2, 'content': \"Mình vừa xem một bộ phim hay!\", 'created_at': datetime(2024,10,2) },\n",
    "    { 'post_id': 3, 'user_id': 1, 'content': \"Chúc mọi người một ngày tốt lành!\", 'created_at': datetime(2024,10,3) }\n",
    "]\n",
    "posts_collection.insert_many(posts_data)"
   ]
  },
  {
   "cell_type": "code",
   "execution_count": 48,
   "metadata": {},
   "outputs": [
    {
     "name": "stdout",
     "output_type": "stream",
     "text": [
      "tat ca nguoi dung: \n",
      "{'_id': ObjectId('670ddef54710bc6878243a84'), 'user_id': 1, 'name': 'Nguyen Van A', 'email': 'a@gmail.com', 'age': 25}\n",
      "{'_id': ObjectId('670ddef54710bc6878243a85'), 'user_id': 2, 'name': 'Tran Thi B', 'email': 'b@gmail.com', 'age': 30}\n",
      "{'_id': ObjectId('670ddef54710bc6878243a86'), 'user_id': 3, 'name': 'Le Van C', 'email': 'c@gmail.com', 'age': 22}\n"
     ]
    }
   ],
   "source": [
    "#buoc 6: truy van du lieu\n",
    "#6.1:xem tat ca nguoi dung\n",
    "print(\"tat ca nguoi dung: \")\n",
    "for user in users_collection.find():\n",
    "    print(user)"
   ]
  },
  {
   "cell_type": "code",
   "execution_count": 49,
   "metadata": {},
   "outputs": [
    {
     "name": "stdout",
     "output_type": "stream",
     "text": [
      "xem ta ca bai dang cua user_id = 1\n",
      "{'_id': ObjectId('670ddef54710bc6878243a8a'), 'post_id': 1, 'user_id': 1, 'content': 'Hôm nay thật đẹp trời!', 'created_at': datetime.datetime(2024, 10, 1, 0, 0)}\n",
      "{'_id': ObjectId('670ddef54710bc6878243a8c'), 'post_id': 3, 'user_id': 1, 'content': 'Chúc mọi người một ngày tốt lành!', 'created_at': datetime.datetime(2024, 10, 3, 0, 0)}\n"
     ]
    }
   ],
   "source": [
    "#6.2:Xem tất cả bài đăng của người dùng với user_id = 1\n",
    "print(\"xem ta ca bai dang cua user_id = 1\")\n",
    "for user in posts_collection.find({'user_id': 1}):\n",
    "    print(user)"
   ]
  },
  {
   "cell_type": "code",
   "execution_count": 51,
   "metadata": {},
   "outputs": [
    {
     "name": "stdout",
     "output_type": "stream",
     "text": [
      "Truy vấn người dùng có độ tuổi trên 25\n",
      "{'_id': ObjectId('670ddef54710bc6878243a85'), 'user_id': 2, 'name': 'Tran Thi B', 'email': 'b@gmail.com', 'age': 30}\n"
     ]
    }
   ],
   "source": [
    "#6.3 Truy vấn người dùng có độ tuổi trên 25\n",
    "print(\"Truy vấn người dùng có độ tuổi trên 25\")\n",
    "for user in users_collection.find({'age': {'$gt': 25}}):\n",
    "    print(user)"
   ]
  },
  {
   "cell_type": "code",
   "execution_count": 52,
   "metadata": {},
   "outputs": [
    {
     "name": "stdout",
     "output_type": "stream",
     "text": [
      "Truy vấn tất cả bài đăng được tạo trong tháng 10\n",
      "{'_id': ObjectId('670ddef54710bc6878243a8a'), 'post_id': 1, 'user_id': 1, 'content': 'Hôm nay thật đẹp trời!', 'created_at': datetime.datetime(2024, 10, 1, 0, 0)}\n",
      "{'_id': ObjectId('670ddef54710bc6878243a8b'), 'post_id': 2, 'user_id': 2, 'content': 'Mình vừa xem một bộ phim hay!', 'created_at': datetime.datetime(2024, 10, 2, 0, 0)}\n",
      "{'_id': ObjectId('670ddef54710bc6878243a8c'), 'post_id': 3, 'user_id': 1, 'content': 'Chúc mọi người một ngày tốt lành!', 'created_at': datetime.datetime(2024, 10, 3, 0, 0)}\n"
     ]
    }
   ],
   "source": [
    "#6.4 Truy vấn tất cả bài đăng được tạo trong tháng 10\n",
    "print(\"Truy vấn tất cả bài đăng được tạo trong tháng 10\")\n",
    "for user in posts_collection.find({'created_at': {'$gte': datetime(2024,10,1), '$lt':datetime(2024,11,1)}}):\n",
    "    print(user)"
   ]
  },
  {
   "cell_type": "code",
   "execution_count": 59,
   "metadata": {},
   "outputs": [
    {
     "name": "stdout",
     "output_type": "stream",
     "text": [
      "Cập nhật nội dung bài đăng của người dùng với post_id = 1\n",
      "{'_id': ObjectId('670ddef54710bc6878243a8a'), 'post_id': 1, 'user_id': 1, 'content': 'Hôm nay thời tiết thật đẹp!', 'created_at': datetime.datetime(2024, 10, 1, 0, 0)}\n",
      "{'_id': ObjectId('670ddef54710bc6878243a8b'), 'post_id': 2, 'user_id': 2, 'content': 'Mình vừa xem một bộ phim hay!', 'created_at': datetime.datetime(2024, 10, 2, 0, 0)}\n",
      "{'_id': ObjectId('670ddef54710bc6878243a8c'), 'post_id': 3, 'user_id': 1, 'content': 'Chúc mọi người một ngày tốt lành!', 'created_at': datetime.datetime(2024, 10, 3, 0, 0)}\n"
     ]
    }
   ],
   "source": [
    "#buoc 7: Cập Nhật và Xóa Dữ Liệu\n",
    "#7.1 Cập nhật nội dung bài đăng của người dùng với post_id = 1\n",
    "print('Cập nhật nội dung bài đăng của người dùng với post_id = 1')\n",
    "posts_collection.update_one({'post_id': 1}, {'$set': {'content': \"Hôm nay thời tiết thật đẹp!\"}})\n",
    "for post in posts_collection.find():\n",
    "    print(post)"
   ]
  },
  {
   "cell_type": "code",
   "execution_count": 60,
   "metadata": {},
   "outputs": [
    {
     "name": "stdout",
     "output_type": "stream",
     "text": [
      "Xóa bình luận với comment_id = 2\n",
      "{'_id': ObjectId('670ddef54710bc6878243a87'), 'comment_id': 1, 'post_id': 1, 'user_id': 2, 'content': 'Thật tuyệt vời!', 'created_at': datetime.datetime(2024, 10, 1, 0, 0)}\n",
      "{'_id': ObjectId('670ddef54710bc6878243a89'), 'comment_id': 3, 'post_id': 3, 'user_id': 1, 'content': 'Cảm ơn bạn!', 'created_at': datetime.datetime(2024, 10, 3, 0, 0)}\n"
     ]
    }
   ],
   "source": [
    "#7.2  Xóa bình luận với comment_id = 2\n",
    "print(\"Xóa bình luận với comment_id = 2\")\n",
    "comments_collection.delete_one({'comment_id': 2})\n",
    "for comment in comments_collection.find():\n",
    "    print(comment)"
   ]
  },
  {
   "cell_type": "code",
   "execution_count": 61,
   "metadata": {},
   "outputs": [
    {
     "name": "stdout",
     "output_type": "stream",
     "text": [
      "{'_id': ObjectId('670ddef54710bc6878243a8a'), 'post_id': 1, 'user_id': 1, 'content': 'Hôm nay thời tiết thật đẹp!', 'created_at': datetime.datetime(2024, 10, 1, 0, 0)}\n",
      "{'_id': ObjectId('670ddef54710bc6878243a8b'), 'post_id': 2, 'user_id': 2, 'content': 'Mình vừa xem một bộ phim hay!', 'created_at': datetime.datetime(2024, 10, 2, 0, 0)}\n",
      "{'_id': ObjectId('670ddef54710bc6878243a8c'), 'post_id': 3, 'user_id': 1, 'content': 'Chúc mọi người một ngày tốt lành!', 'created_at': datetime.datetime(2024, 10, 3, 0, 0)}\n",
      "---------------------------------------------\n",
      "{'_id': ObjectId('670ddef54710bc6878243a87'), 'comment_id': 1, 'post_id': 1, 'user_id': 2, 'content': 'Thật tuyệt vời!', 'created_at': datetime.datetime(2024, 10, 1, 0, 0)}\n",
      "{'_id': ObjectId('670ddef54710bc6878243a89'), 'comment_id': 3, 'post_id': 3, 'user_id': 1, 'content': 'Cảm ơn bạn!', 'created_at': datetime.datetime(2024, 10, 3, 0, 0)}\n"
     ]
    }
   ],
   "source": [
    "#7.3  Xem lại dữ liệu sau khi cập nhật và xóa\n",
    "for post in posts_collection.find():\n",
    "    print(post)\n",
    "print('---------------------------------------------')\n",
    "for comment in comments_collection.find():\n",
    "    print(comment)"
   ]
  }
 ],
 "metadata": {
  "kernelspec": {
   "display_name": "Python 3",
   "language": "python",
   "name": "python3"
  },
  "language_info": {
   "codemirror_mode": {
    "name": "ipython",
    "version": 3
   },
   "file_extension": ".py",
   "mimetype": "text/x-python",
   "name": "python",
   "nbconvert_exporter": "python",
   "pygments_lexer": "ipython3",
   "version": "3.11.6"
  }
 },
 "nbformat": 4,
 "nbformat_minor": 2
}
