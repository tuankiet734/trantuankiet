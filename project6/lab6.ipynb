{
 "cells": [
  {
   "cell_type": "code",
   "execution_count": 1,
   "metadata": {},
   "outputs": [],
   "source": [
    "from pymongo import MongoClient\n",
    "from datetime import datetime"
   ]
  },
  {
   "cell_type": "code",
   "execution_count": 2,
   "metadata": {},
   "outputs": [],
   "source": [
    "#buoc 1: ket noi toi mongodb\n",
    "client = MongoClient('mongodb://localhost:27017/')\n",
    "client.drop_database('driveManagement1')\n",
    "db = client['driveManagement1']# chon csdl driveManagement"
   ]
  },
  {
   "cell_type": "code",
   "execution_count": 3,
   "metadata": {},
   "outputs": [],
   "source": [
    "#buoc 2: tao cac collection\n",
    "files_collection = db['files']"
   ]
  },
  {
   "cell_type": "code",
   "execution_count": 5,
   "metadata": {},
   "outputs": [
    {
     "data": {
      "text/plain": [
       "InsertManyResult([ObjectId('670de3eb905fa62b084f651e'), ObjectId('670de3eb905fa62b084f651f'), ObjectId('670de3eb905fa62b084f6520'), ObjectId('670de3eb905fa62b084f6521'), ObjectId('670de3eb905fa62b084f6522')], acknowledged=True)"
      ]
     },
     "execution_count": 5,
     "metadata": {},
     "output_type": "execute_result"
    }
   ],
   "source": [
    "#buoc 3 them du lieu vao files\n",
    "files_data = [\n",
    "    { 'file_id': 1, 'name': \"Report.pdf\", 'size': 2048, 'owner': \"Nguyen Van A\", 'created_at': datetime(2024,1,10), 'shared': False },\n",
    "    { 'file_id': 2, 'name': \"Presentation.pptx\", 'size': 5120, 'owner': \"Tran Thi B\", 'created_at': datetime(2024,1,15), 'shared': True },\n",
    "    { 'file_id': 3, 'name': \"Image.png\", 'size': 1024, 'owner': \"Le Van C\", 'created_at': datetime(2024,1,20), 'shared': False },\n",
    "    { 'file_id': 4, 'name': \"Spreadsheet.xlsx\", 'size': 3072, 'owner': \"Pham Van D\", 'created_at': datetime(2024,1,25), 'shared': True },\n",
    "    { 'file_id': 5, 'name': \"Notes.txt\", 'size': 512, 'owner': \"Nguyen Thi E\", 'created_at': datetime(2024,1,30), 'shared': False }\n",
    "]\n",
    "files_collection.insert_many(files_data)"
   ]
  },
  {
   "cell_type": "code",
   "execution_count": 6,
   "metadata": {},
   "outputs": [
    {
     "name": "stdout",
     "output_type": "stream",
     "text": [
      "{'_id': ObjectId('670de3eb905fa62b084f651e'), 'file_id': 1, 'name': 'Report.pdf', 'size': 2048, 'owner': 'Nguyen Van A', 'created_at': datetime.datetime(2024, 1, 10, 0, 0), 'shared': False}\n",
      "{'_id': ObjectId('670de3eb905fa62b084f651f'), 'file_id': 2, 'name': 'Presentation.pptx', 'size': 5120, 'owner': 'Tran Thi B', 'created_at': datetime.datetime(2024, 1, 15, 0, 0), 'shared': True}\n",
      "{'_id': ObjectId('670de3eb905fa62b084f6520'), 'file_id': 3, 'name': 'Image.png', 'size': 1024, 'owner': 'Le Van C', 'created_at': datetime.datetime(2024, 1, 20, 0, 0), 'shared': False}\n",
      "{'_id': ObjectId('670de3eb905fa62b084f6521'), 'file_id': 4, 'name': 'Spreadsheet.xlsx', 'size': 3072, 'owner': 'Pham Van D', 'created_at': datetime.datetime(2024, 1, 25, 0, 0), 'shared': True}\n",
      "{'_id': ObjectId('670de3eb905fa62b084f6522'), 'file_id': 5, 'name': 'Notes.txt', 'size': 512, 'owner': 'Nguyen Thi E', 'created_at': datetime.datetime(2024, 1, 30, 0, 0), 'shared': False}\n"
     ]
    }
   ],
   "source": [
    "#buoc 4 truy van du lieu\n",
    "#4.1 Xem tất cả tệp trong bộ sưu tập 'files'\n",
    "for files in files_collection.find():\n",
    "    print(files)"
   ]
  },
  {
   "cell_type": "code",
   "execution_count": 7,
   "metadata": {},
   "outputs": [
    {
     "name": "stdout",
     "output_type": "stream",
     "text": [
      "{'_id': ObjectId('670de3eb905fa62b084f651e'), 'file_id': 1, 'name': 'Report.pdf', 'size': 2048, 'owner': 'Nguyen Van A', 'created_at': datetime.datetime(2024, 1, 10, 0, 0), 'shared': False}\n",
      "{'_id': ObjectId('670de3eb905fa62b084f651f'), 'file_id': 2, 'name': 'Presentation.pptx', 'size': 5120, 'owner': 'Tran Thi B', 'created_at': datetime.datetime(2024, 1, 15, 0, 0), 'shared': True}\n",
      "{'_id': ObjectId('670de3eb905fa62b084f6521'), 'file_id': 4, 'name': 'Spreadsheet.xlsx', 'size': 3072, 'owner': 'Pham Van D', 'created_at': datetime.datetime(2024, 1, 25, 0, 0), 'shared': True}\n"
     ]
    }
   ],
   "source": [
    "#4.2 Tìm tệp có kích thước lớn hơn 2000KB\n",
    "for files in files_collection.find({'size': {'$gt': 2000}}):\n",
    "    print(files)"
   ]
  },
  {
   "cell_type": "code",
   "execution_count": 16,
   "metadata": {},
   "outputs": [
    {
     "data": {
      "text/plain": [
       "5"
      ]
     },
     "execution_count": 16,
     "metadata": {},
     "output_type": "execute_result"
    }
   ],
   "source": [
    "#4.3 Đếm tổng số tệp\n",
    "files_collection.count_documents({})\n",
    "\n"
   ]
  },
  {
   "cell_type": "code",
   "execution_count": 12,
   "metadata": {},
   "outputs": [
    {
     "name": "stdout",
     "output_type": "stream",
     "text": [
      "{'_id': ObjectId('670de3eb905fa62b084f651f'), 'file_id': 2, 'name': 'Presentation.pptx', 'size': 5120, 'owner': 'Tran Thi B', 'created_at': datetime.datetime(2024, 1, 15, 0, 0), 'shared': True}\n",
      "{'_id': ObjectId('670de3eb905fa62b084f6521'), 'file_id': 4, 'name': 'Spreadsheet.xlsx', 'size': 3072, 'owner': 'Pham Van D', 'created_at': datetime.datetime(2024, 1, 25, 0, 0), 'shared': True}\n"
     ]
    }
   ],
   "source": [
    "#4.4 Tìm tất cả tệp được chia sẻ\n",
    "for files in files_collection.find({'shared': True}):\n",
    "    print(files)"
   ]
  },
  {
   "cell_type": "code",
   "execution_count": 21,
   "metadata": {},
   "outputs": [
    {
     "name": "stdout",
     "output_type": "stream",
     "text": [
      "{'_id': 'Le Van C', 'count': 1}\n",
      "{'_id': 'Nguyen Van A', 'count': 1}\n",
      "{'_id': 'Nguyen Thi E', 'count': 1}\n",
      "{'_id': 'Pham Van D', 'count': 1}\n",
      "{'_id': 'Tran Thi B', 'count': 1}\n"
     ]
    }
   ],
   "source": [
    "#4.5Thống kê số lượng tệp theo chủ sở hữu\n",
    "for files in files_collection.aggregate([{'$group': {'_id': '$owner', 'count':{'$sum': 1}}}]):\n",
    "    print(files)"
   ]
  },
  {
   "cell_type": "code",
   "execution_count": 22,
   "metadata": {},
   "outputs": [
    {
     "data": {
      "text/plain": [
       "UpdateResult({'n': 1, 'nModified': 1, 'ok': 1.0, 'updatedExisting': True}, acknowledged=True)"
      ]
     },
     "execution_count": 22,
     "metadata": {},
     "output_type": "execute_result"
    }
   ],
   "source": [
    "#buoc 5 Cập nhật và xóa thông tin tệp\n",
    "#5.1 Cập nhật trạng thái chia sẻ của tệp với file_id = 1 thành true\n",
    "files_collection.update_one({'file_id': 1}, {'$set':{'shared':True}})"
   ]
  },
  {
   "cell_type": "code",
   "execution_count": 23,
   "metadata": {},
   "outputs": [
    {
     "name": "stdout",
     "output_type": "stream",
     "text": [
      "{'_id': ObjectId('670de3eb905fa62b084f651e'), 'file_id': 1, 'name': 'Report.pdf', 'size': 2048, 'owner': 'Nguyen Van A', 'created_at': datetime.datetime(2024, 1, 10, 0, 0), 'shared': True}\n",
      "{'_id': ObjectId('670de3eb905fa62b084f651f'), 'file_id': 2, 'name': 'Presentation.pptx', 'size': 5120, 'owner': 'Tran Thi B', 'created_at': datetime.datetime(2024, 1, 15, 0, 0), 'shared': True}\n",
      "{'_id': ObjectId('670de3eb905fa62b084f6520'), 'file_id': 3, 'name': 'Image.png', 'size': 1024, 'owner': 'Le Van C', 'created_at': datetime.datetime(2024, 1, 20, 0, 0), 'shared': False}\n",
      "{'_id': ObjectId('670de3eb905fa62b084f6521'), 'file_id': 4, 'name': 'Spreadsheet.xlsx', 'size': 3072, 'owner': 'Pham Van D', 'created_at': datetime.datetime(2024, 1, 25, 0, 0), 'shared': True}\n",
      "{'_id': ObjectId('670de3eb905fa62b084f6522'), 'file_id': 5, 'name': 'Notes.txt', 'size': 512, 'owner': 'Nguyen Thi E', 'created_at': datetime.datetime(2024, 1, 30, 0, 0), 'shared': False}\n"
     ]
    }
   ],
   "source": [
    "for files in files_collection.find():\n",
    "    print(files)"
   ]
  },
  {
   "cell_type": "code",
   "execution_count": 24,
   "metadata": {},
   "outputs": [
    {
     "name": "stdout",
     "output_type": "stream",
     "text": [
      "{'_id': ObjectId('670de3eb905fa62b084f651e'), 'file_id': 1, 'name': 'Report.pdf', 'size': 2048, 'owner': 'Nguyen Van A', 'created_at': datetime.datetime(2024, 1, 10, 0, 0), 'shared': True}\n",
      "{'_id': ObjectId('670de3eb905fa62b084f651f'), 'file_id': 2, 'name': 'Presentation.pptx', 'size': 5120, 'owner': 'Tran Thi B', 'created_at': datetime.datetime(2024, 1, 15, 0, 0), 'shared': True}\n",
      "{'_id': ObjectId('670de3eb905fa62b084f6521'), 'file_id': 4, 'name': 'Spreadsheet.xlsx', 'size': 3072, 'owner': 'Pham Van D', 'created_at': datetime.datetime(2024, 1, 25, 0, 0), 'shared': True}\n",
      "{'_id': ObjectId('670de3eb905fa62b084f6522'), 'file_id': 5, 'name': 'Notes.txt', 'size': 512, 'owner': 'Nguyen Thi E', 'created_at': datetime.datetime(2024, 1, 30, 0, 0), 'shared': False}\n"
     ]
    }
   ],
   "source": [
    "#5.2 Xóa tệp với file_id = 3\n",
    "files_collection.delete_one({'file_id': 3})\n",
    "for files in files_collection.find():\n",
    "    print(files)"
   ]
  },
  {
   "cell_type": "code",
   "execution_count": 25,
   "metadata": {},
   "outputs": [
    {
     "name": "stdout",
     "output_type": "stream",
     "text": [
      "{'_id': ObjectId('670de3eb905fa62b084f651e'), 'file_id': 1, 'name': 'Report.pdf', 'size': 2048, 'owner': 'Nguyen Van A', 'created_at': datetime.datetime(2024, 1, 10, 0, 0), 'shared': True}\n"
     ]
    }
   ],
   "source": [
    "#6 Tìm tất cả tệp của người dùng có tên là \"Nguyen Van A\".\n",
    "for files in files_collection.find({'owner':\"Nguyen Van A\"}):\n",
    "    print(files)"
   ]
  },
  {
   "cell_type": "code",
   "execution_count": 26,
   "metadata": {},
   "outputs": [
    {
     "name": "stdout",
     "output_type": "stream",
     "text": [
      "{'_id': ObjectId('670de3eb905fa62b084f651f'), 'file_id': 2, 'name': 'Presentation.pptx', 'size': 5120, 'owner': 'Tran Thi B', 'created_at': datetime.datetime(2024, 1, 15, 0, 0), 'shared': True}\n"
     ]
    }
   ],
   "source": [
    "#7 Tìm tệp lớn nhất trong bộ sưu tập.\n",
    "biggest_file = files_collection.find().sort('size', -1).limit(1)\n",
    "for files in biggest_file:\n",
    "    print(files)"
   ]
  },
  {
   "cell_type": "code",
   "execution_count": 27,
   "metadata": {},
   "outputs": [
    {
     "data": {
      "text/plain": [
       "1"
      ]
     },
     "execution_count": 27,
     "metadata": {},
     "output_type": "execute_result"
    }
   ],
   "source": [
    "#8 Tìm số lượng tệp có kích thước nhỏ hơn 1000KB.\n",
    "files_collection.count_documents({'size':{'$lt':1000}})"
   ]
  },
  {
   "cell_type": "code",
   "execution_count": 28,
   "metadata": {},
   "outputs": [
    {
     "name": "stdout",
     "output_type": "stream",
     "text": [
      "{'_id': ObjectId('670de3eb905fa62b084f651e'), 'file_id': 1, 'name': 'Report.pdf', 'size': 2048, 'owner': 'Nguyen Van A', 'created_at': datetime.datetime(2024, 1, 10, 0, 0), 'shared': True}\n",
      "{'_id': ObjectId('670de3eb905fa62b084f651f'), 'file_id': 2, 'name': 'Presentation.pptx', 'size': 5120, 'owner': 'Tran Thi B', 'created_at': datetime.datetime(2024, 1, 15, 0, 0), 'shared': True}\n",
      "{'_id': ObjectId('670de3eb905fa62b084f6521'), 'file_id': 4, 'name': 'Spreadsheet.xlsx', 'size': 3072, 'owner': 'Pham Van D', 'created_at': datetime.datetime(2024, 1, 25, 0, 0), 'shared': True}\n",
      "{'_id': ObjectId('670de3eb905fa62b084f6522'), 'file_id': 5, 'name': 'Notes.txt', 'size': 512, 'owner': 'Nguyen Thi E', 'created_at': datetime.datetime(2024, 1, 30, 0, 0), 'shared': False}\n"
     ]
    }
   ],
   "source": [
    "#9 Tìm tất cả tệp được tạo trong tháng 1 năm 2024.\n",
    "for allfile in files_collection.find({\n",
    "    'created_at': {\n",
    "        '$gte': datetime(2024,1,1),\n",
    "        '$lt': datetime(2024,2,1)\n",
    "    }}):\n",
    "    print(allfile)"
   ]
  },
  {
   "cell_type": "code",
   "execution_count": 29,
   "metadata": {},
   "outputs": [
    {
     "data": {
      "text/plain": [
       "UpdateResult({'n': 1, 'nModified': 1, 'ok': 1.0, 'updatedExisting': True}, acknowledged=True)"
      ]
     },
     "execution_count": 29,
     "metadata": {},
     "output_type": "execute_result"
    }
   ],
   "source": [
    "#10 Cập nhật tên tệp với `file_id` là 4 thành \"New Spreadsheet.xlsx\".\n",
    "files_collection.update_one({'file_id': 4 }, {'$set': {'name': \"New Spreadsheet.xlsx\"}})"
   ]
  },
  {
   "cell_type": "code",
   "execution_count": 30,
   "metadata": {},
   "outputs": [
    {
     "data": {
      "text/plain": [
       "DeleteResult({'n': 1, 'ok': 1.0}, acknowledged=True)"
      ]
     },
     "execution_count": 30,
     "metadata": {},
     "output_type": "execute_result"
    }
   ],
   "source": [
    "#11 Xóa tất cả tệp có kích thước nhỏ hơn 1000KB.\n",
    "files_collection.delete_many({'size': {'$lt': 1000 }})"
   ]
  },
  {
   "cell_type": "code",
   "execution_count": 31,
   "metadata": {},
   "outputs": [],
   "source": [
    "client.close()"
   ]
  }
 ],
 "metadata": {
  "kernelspec": {
   "display_name": "Python 3",
   "language": "python",
   "name": "python3"
  },
  "language_info": {
   "codemirror_mode": {
    "name": "ipython",
    "version": 3
   },
   "file_extension": ".py",
   "mimetype": "text/x-python",
   "name": "python",
   "nbconvert_exporter": "python",
   "pygments_lexer": "ipython3",
   "version": "3.11.6"
  }
 },
 "nbformat": 4,
 "nbformat_minor": 2
}
