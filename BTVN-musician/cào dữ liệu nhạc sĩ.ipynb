{
 "cells": [
  {
   "cell_type": "code",
   "execution_count": 1,
   "metadata": {},
   "outputs": [],
   "source": [
    "from pygments.formatters.html import webify\n",
    "from selenium import webdriver\n",
    "from selenium.webdriver.common.by import By\n",
    "from selenium.webdriver.chrome.options import Options\n",
    "import time\n",
    "import pandas as pd\n",
    "import re\n",
    "import sqlite3"
   ]
  },
  {
   "cell_type": "code",
   "execution_count": 2,
   "metadata": {},
   "outputs": [],
   "source": [
    "# 0. Tạo cơ sở dữ liệu\n",
    "conn = sqlite3.connect('musician.db')\n",
    "c = conn.cursor()\n",
    "try:\n",
    "    c.execute('''\n",
    "        CREATE TABLE musicians (\n",
    "            id INTEGER primary key autoincrement,\n",
    "            name_of_the_band TEXT,\n",
    "            year_active INTEGER\n",
    "        )\n",
    "    ''')\n",
    "except Exception as e:\n",
    "    print(e)\n",
    "\n"
   ]
  },
  {
   "cell_type": "code",
   "execution_count": 3,
   "metadata": {},
   "outputs": [],
   "source": [
    "def them(name_of_the_band, year_active):\n",
    "    conn = sqlite3.connect('musician.db')\n",
    "    c = conn.cursor()\n",
    "    # Them vao co so du lieu\n",
    "    c.execute('''\n",
    "        INSERT INTO musician(name_of_the_band, year_active)\n",
    "        VALUES (:name_of_the_band, :year_active)\n",
    "    ''',\n",
    "      {\n",
    "          'name_of_the_band': name_of_the_band,\n",
    "          'year_active': year_active\n",
    "      })\n",
    "    conn.commit()\n",
    "    conn.close()"
   ]
  },
  {
   "cell_type": "code",
   "execution_count": 4,
   "metadata": {},
   "outputs": [],
   "source": [
    "#tạo dataframe rỗng và dictionnary\n",
    "all_links = []\n",
    "musician_links = []\n"
   ]
  },
  {
   "cell_type": "code",
   "execution_count": 5,
   "metadata": {},
   "outputs": [],
   "source": [
    "# # Đường dẫn đến file thực thi geckodriver\n",
    "# gecko_path = r\"C:\\Users\\Admin\\OneDrive\\Tài liệu\\GitHub\\Ma_nguon_mo_khoa\\BTVN-musician\\geckodriver.exe\"\n",
    "\n",
    "# # Khởi tởi đối tượng dịch vụ với đường geckodriver\n",
    "# ser = Service(gecko_path)\n",
    "\n",
    "# # Tạo tùy chọn\n",
    "# options = webdriver.Chrome.options.Options()\n",
    "# options.binary_location =\"C:/Program Files/Mozilla Firefox/firefox.exe\"\n",
    "# # Thiết lập firefox chỉ hiện thị giao diện\n",
    "# options.headless = False\n"
   ]
  },
  {
   "cell_type": "code",
   "execution_count": 6,
   "metadata": {},
   "outputs": [],
   "source": [
    "# Tạo op để chạy chế độ ẩn \n",
    "chrome_options = Options()\n",
    "chrome_options.add_argument(\"--headless=new\")  \n",
    "chrome_options.add_argument(\"--disable-gpu\")  \n",
    "chrome_options.add_argument(\"--no-sandbox\")  \n",
    "chrome_options.add_argument(\"--disable-dev-shm-usage\") \n",
    "chrome_options.add_argument(\"--log-level=3\")  \n",
    "chrome_options.add_argument(\"--window-size=1920x1080\")  "
   ]
  },
  {
   "cell_type": "code",
   "execution_count": 7,
   "metadata": {},
   "outputs": [
    {
     "name": "stdout",
     "output_type": "stream",
     "text": [
      "141\n",
      "10\n"
     ]
    }
   ],
   "source": [
    "#truy cập vô trang web \n",
    "driver = webdriver.Chrome(chrome_options)\n",
    "url = 'https://en.wikipedia.org/wiki/Lists_of_musicians#A'\n",
    "\n",
    "#mở tràn web\n",
    "driver.get(url)\n",
    "\n",
    "#dừng khoảng 2s\n",
    "time.sleep(2)\n",
    "\n",
    "try:\n",
    "    #lấy tất cả các thẻ ul trong web danh mục\n",
    "    ul_tags = driver.find_elements(By.TAG_NAME, \"ul\")\n",
    "    print(len(ul_tags))\n",
    "\n",
    "    #chọn ul thứ 22\n",
    "    ul_musican = ul_tags[21]\n",
    "    #lấy tất cả link chứa thông tin nhạc sĩ bắt đầu bằng chữ A thuộc ul_musican\n",
    "    li_tags = ul_musican.find_elements(By.TAG_NAME, \"li\")\n",
    "    print(len(li_tags))\n",
    "\n",
    "    # tạo danh sách các url\n",
    "    links = [tag.find_element(By.TAG_NAME,\"a\").get_attribute(\"href\") for tag in li_tags]\n",
    "    for x in links:\n",
    "        all_links.append(x)\n",
    "except:\n",
    "    print(\"Error!!!!\")\n",
    "#tat man hinh\n",
    "driver.quit()"
   ]
  },
  {
   "cell_type": "code",
   "execution_count": 8,
   "metadata": {},
   "outputs": [
    {
     "name": "stdout",
     "output_type": "stream",
     "text": [
      "['https://en.wikipedia.org/wiki/List_of_acid_rock_artists', 'https://en.wikipedia.org/wiki/List_of_adult_alternative_artists', 'https://en.wikipedia.org/wiki/List_of_alternative_country_musicians', 'https://en.wikipedia.org/wiki/List_of_alternative_hip_hop_artists', 'https://en.wikipedia.org/wiki/List_of_alternative_metal_artists', 'https://en.wikipedia.org/wiki/List_of_alternative_rock_artists', 'https://en.wikipedia.org/wiki/List_of_ambient_music_artists', 'https://en.wikipedia.org/wiki/List_of_anarcho-punk_bands', 'https://en.wikipedia.org/wiki/List_of_Arabic_pop_musicians', 'https://en.wikipedia.org/wiki/List_of_avant-garde_metal_artists']\n"
     ]
    }
   ],
   "source": [
    "#kiểm tra all_links có dữ liệu chưa\n",
    "print(all_links)"
   ]
  },
  {
   "cell_type": "code",
   "execution_count": 9,
   "metadata": {},
   "outputs": [
    {
     "name": "stdout",
     "output_type": "stream",
     "text": [
      "48\n",
      "40\n"
     ]
    }
   ],
   "source": [
    "#truy cập vô đường link đầu tiên của all_links\n",
    "artists_driver = webdriver.Chrome(chrome_options)\n",
    "artists_driver.get(all_links[0])\n",
    "\n",
    "#dừng khoảng 2s\n",
    "time.sleep(2)\n",
    "\n",
    "try:\n",
    "     #lấy tất cả các the ul của list of acid rock artists\n",
    "    ul_artists_tags = artists_driver.find_elements(By.TAG_NAME, \"ul\")\n",
    "    print(len(ul_artists_tags))\n",
    "\n",
    "    #chọn ul thứ 25\n",
    "    ul_artist = ul_artists_tags[24]\n",
    "    #lấy tất cả link chứa thông tin thuộc artists\n",
    "    li_artist = ul_artist.find_elements(By.TAG_NAME, \"li\")\n",
    "    print(len(li_artist))\n",
    "\n",
    "    # tạo danh sách các url của artist\n",
    "    links_artist = [artist_tag.find_element(By.TAG_NAME,\"a\").get_attribute(\"href\") for artist_tag in li_artist]\n",
    "    for x in links_artist:\n",
    "        musician_links.append(x)\n",
    "except:\n",
    "    print(\"Error!!!!!!!!!!!!!!!!!!!!!!!!!!!!!!!!!!!!!!!!!!!!!!!!\")\n",
    "artists_driver.quit()"
   ]
  },
  {
   "cell_type": "code",
   "execution_count": 14,
   "metadata": {},
   "outputs": [
    {
     "name": "stdout",
     "output_type": "stream",
     "text": [
      "['https://en.wikipedia.org/wiki/The_13th_Floor_Elevators', 'https://en.wikipedia.org/wiki/Alice_Cooper_(band)', 'https://en.wikipedia.org/wiki/The_Amboy_Dukes_(band)', 'https://en.wikipedia.org/wiki/Amon_D%C3%BC%C3%BCl', 'https://en.wikipedia.org/wiki/Big_Brother_and_the_Holding_Company', 'https://en.wikipedia.org/wiki/Black_Sabbath', 'https://en.wikipedia.org/wiki/Blue_Cheer', 'https://en.wikipedia.org/wiki/Blues_Magoos', 'https://en.wikipedia.org/wiki/The_Charlatans_(American_band)', 'https://en.wikipedia.org/wiki/Count_Five', 'https://en.wikipedia.org/wiki/Country_Joe_and_the_Fish', 'https://en.wikipedia.org/wiki/Coven_(band)', 'https://en.wikipedia.org/wiki/Cream_(band)', 'https://en.wikipedia.org/wiki/Deep_Purple', 'https://en.wikipedia.org/wiki/The_Deviants_(band)', 'https://en.wikipedia.org/wiki/The_Doors', 'https://en.wikipedia.org/wiki/The_Electric_Prunes', 'https://en.wikipedia.org/wiki/The_Fugs', 'https://en.wikipedia.org/wiki/Grateful_Dead', 'https://en.wikipedia.org/wiki/The_Great_Society_(band)', 'https://en.wikipedia.org/wiki/The_Groundhogs', 'https://en.wikipedia.org/wiki/Hawkwind', 'https://en.wikipedia.org/wiki/Iron_Butterfly', 'https://en.wikipedia.org/wiki/Jefferson_Airplane', 'https://en.wikipedia.org/wiki/The_Jimi_Hendrix_Experience', 'https://en.wikipedia.org/wiki/Janis_Joplin', 'https://en.wikipedia.org/wiki/JPT_Scare_Band', 'https://en.wikipedia.org/wiki/Love_(band)', 'https://en.wikipedia.org/wiki/MC5', 'https://en.wikipedia.org/wiki/Moby_Grape', 'https://en.wikipedia.org/wiki/The_Music_Machine', 'https://en.wikipedia.org/wiki/Pop_Ma%C5%A1ina', 'https://en.wikipedia.org/wiki/Quicksilver_Messenger_Service', 'https://en.wikipedia.org/wiki/Santana_(band)', 'https://en.wikipedia.org/wiki/The_Seeds', 'https://en.wikipedia.org/wiki/Grace_Slick', 'https://en.wikipedia.org/wiki/Steppenwolf_(band)', 'https://en.wikipedia.org/wiki/Tully_(band)', 'https://en.wikipedia.org/wiki/Vanilla_Fudge', 'https://en.wikipedia.org/wiki/Wooden_Shjips']\n"
     ]
    }
   ],
   "source": [
    "#kiểm tra musician có dữ liệu chưa\n",
    "print(musician_links)"
   ]
  },
  {
   "cell_type": "code",
   "execution_count": 13,
   "metadata": {},
   "outputs": [
    {
     "name": "stdout",
     "output_type": "stream",
     "text": [
      "https://en.wikipedia.org/wiki/The_13th_Floor_Elevators\n",
      "Error!!!!!!!!!!!!!!!\n",
      "https://en.wikipedia.org/wiki/Alice_Cooper_(band)\n",
      "Error!!!!!!!!!!!!!!!\n"
     ]
    }
   ],
   "source": [
    "#lấy thông tin của các nhạc sĩ ca sĩ\n",
    "count = 0\n",
    "for link in musician_links:\n",
    "    if(count >= 2):\n",
    "        break\n",
    "    count += 1\n",
    "    print(link)\n",
    "    try:\n",
    "        #khởi tạo webdriver\n",
    "        driver = webdriver.Chrome()\n",
    "        #mở trang web\n",
    "        url = link\n",
    "        driver.get(url)\n",
    "        #đợi khoảng 2s\n",
    "        time.sleep(2)\n",
    "        #lấy tên ban nhạc\n",
    "        try:\n",
    "            name_band = driver.find_element(By.TAG_NAME, \"h1\").text\n",
    "        except:\n",
    "            name_band = \"\"\n",
    "\n",
    "        #lay năm hoat dong\n",
    "        try:\n",
    "            year_active_element = driver.find_element(By.XPATH, value='//span[contains(text(),\"Years active\")]/parent::*/following-sibling::td')\n",
    "            year_active = year_active_element.text\n",
    "            \n",
    "        except:\n",
    "            year_active = \"\"\n",
    "\n",
    "        # #tạo dictionanty để thêm thông tin nhạc sĩ\n",
    "        # musician = {'name of the band': name_band, 'years active': year_active}\n",
    "        # #chuyển đổi dictionary thành dataframe\n",
    "        # musician_df = pd.DataFrame([musician])\n",
    "        # #thêm thông tin vào df chính\n",
    "        # df = pd.concat([df, musician_df], ignore_index=True)\n",
    "\n",
    "        them(name_band, year_active)\n",
    "        #đóng web\n",
    "        driver.quit()\n",
    "    except:\n",
    "        print(\"Error!!!!!!!!!!!!!!!\")"
   ]
  },
  {
   "cell_type": "code",
   "execution_count": null,
   "metadata": {},
   "outputs": [],
   "source": []
  }
 ],
 "metadata": {
  "kernelspec": {
   "display_name": "Python 3",
   "language": "python",
   "name": "python3"
  },
  "language_info": {
   "codemirror_mode": {
    "name": "ipython",
    "version": 3
   },
   "file_extension": ".py",
   "mimetype": "text/x-python",
   "name": "python",
   "nbconvert_exporter": "python",
   "pygments_lexer": "ipython3",
   "version": "3.11.6"
  }
 },
 "nbformat": 4,
 "nbformat_minor": 2
}
