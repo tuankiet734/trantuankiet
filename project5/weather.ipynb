{
 "cells": [
  {
   "cell_type": "code",
   "execution_count": 1,
   "metadata": {},
   "outputs": [],
   "source": [
    "import sqlite3\n",
    "\n",
    "# Tạo kết nối đến database (hoặc tạo mới nếu chưa tồn tại)\n",
    "conn = sqlite3.connect('air_quality.db')\n",
    "cursor = conn.cursor()\n",
    "\n",
    "# Tạo bảng nếu chưa tồn tại\n",
    "cursor.execute('''\n",
    "CREATE TABLE IF NOT EXISTS air_quality (\n",
    "    date TEXT,\n",
    "    city TEXT,\n",
    "    pm25 REAL,\n",
    "    temperature REAL,\n",
    "    pressure REAL,\n",
    "    humidity REAL,\n",
    "    wind REAL\n",
    ")\n",
    "''')\n",
    "\n",
    "conn.commit()\n",
    "conn.close()\n"
   ]
  },
  {
   "cell_type": "code",
   "execution_count": 2,
   "metadata": {},
   "outputs": [],
   "source": [
    "import requests\n",
    "from bs4 import BeautifulSoup\n",
    "from datetime import datetime\n",
    "\n",
    "def get_air_quality_data():\n",
    "    url = 'https://aqicn.org/city/vietnam/tp-ho-chi-minh/duong-nguyen-van-tao--ap-3--nha-be-kttv-tram-cam-bien/vn/'\n",
    "    response = requests.get(url)\n",
    "    soup = BeautifulSoup(response.text, 'html.parser')\n",
    "\n",
    "    # Trích xuất các chỉ số cần thiết (giả định tên thẻ hoặc ID)\n",
    "    pm25 = float(soup.find('td', {'id': 'cur_pm25'}).text)\n",
    "    temperature = float(soup.find('td', {'id': 'cur_temp'}).text)\n",
    "    pressure = float(soup.find('td', {'id': 'cur_press'}).text)\n",
    "    humidity = float(soup.find('td', {'id': 'cur_hum'}).text)\n",
    "    wind = float(soup.find('td', {'id': 'cur_wind'}).text)\n",
    "\n",
    "    # Tạo bản ghi với ngày hiện tại và thành phố Hồ Chí Minh\n",
    "    data = (\n",
    "        datetime.now().strftime('%Y-%m-%d %H:%M:%S'),\n",
    "        'TP Hồ Chí Minh',\n",
    "        pm25, temperature, pressure, humidity, wind\n",
    "    )\n",
    "\n",
    "    return data\n"
   ]
  },
  {
   "cell_type": "code",
   "execution_count": 3,
   "metadata": {},
   "outputs": [
    {
     "ename": "AttributeError",
     "evalue": "'NoneType' object has no attribute 'text'",
     "output_type": "error",
     "traceback": [
      "\u001b[1;31m---------------------------------------------------------------------------\u001b[0m",
      "\u001b[1;31mAttributeError\u001b[0m                            Traceback (most recent call last)",
      "Cell \u001b[1;32mIn[3], line 15\u001b[0m\n\u001b[0;32m     12\u001b[0m     conn\u001b[38;5;241m.\u001b[39mclose()\n\u001b[0;32m     14\u001b[0m \u001b[38;5;66;03m# Lấy dữ liệu và lưu vào database\u001b[39;00m\n\u001b[1;32m---> 15\u001b[0m data \u001b[38;5;241m=\u001b[39m \u001b[43mget_air_quality_data\u001b[49m\u001b[43m(\u001b[49m\u001b[43m)\u001b[49m\n\u001b[0;32m     16\u001b[0m save_data_to_db(data)\n\u001b[0;32m     18\u001b[0m \u001b[38;5;28mprint\u001b[39m(\u001b[38;5;124m\"\u001b[39m\u001b[38;5;124mDữ liệu đã được lưu thành công!\u001b[39m\u001b[38;5;124m\"\u001b[39m)\n",
      "Cell \u001b[1;32mIn[2], line 12\u001b[0m, in \u001b[0;36mget_air_quality_data\u001b[1;34m()\u001b[0m\n\u001b[0;32m     10\u001b[0m \u001b[38;5;66;03m# Trích xuất các chỉ số cần thiết (giả định tên thẻ hoặc ID)\u001b[39;00m\n\u001b[0;32m     11\u001b[0m pm25 \u001b[38;5;241m=\u001b[39m \u001b[38;5;28mfloat\u001b[39m(soup\u001b[38;5;241m.\u001b[39mfind(\u001b[38;5;124m'\u001b[39m\u001b[38;5;124mtd\u001b[39m\u001b[38;5;124m'\u001b[39m, {\u001b[38;5;124m'\u001b[39m\u001b[38;5;124mid\u001b[39m\u001b[38;5;124m'\u001b[39m: \u001b[38;5;124m'\u001b[39m\u001b[38;5;124mcur_pm25\u001b[39m\u001b[38;5;124m'\u001b[39m})\u001b[38;5;241m.\u001b[39mtext)\n\u001b[1;32m---> 12\u001b[0m temperature \u001b[38;5;241m=\u001b[39m \u001b[38;5;28mfloat\u001b[39m(\u001b[43msoup\u001b[49m\u001b[38;5;241;43m.\u001b[39;49m\u001b[43mfind\u001b[49m\u001b[43m(\u001b[49m\u001b[38;5;124;43m'\u001b[39;49m\u001b[38;5;124;43mtd\u001b[39;49m\u001b[38;5;124;43m'\u001b[39;49m\u001b[43m,\u001b[49m\u001b[43m \u001b[49m\u001b[43m{\u001b[49m\u001b[38;5;124;43m'\u001b[39;49m\u001b[38;5;124;43mid\u001b[39;49m\u001b[38;5;124;43m'\u001b[39;49m\u001b[43m:\u001b[49m\u001b[43m \u001b[49m\u001b[38;5;124;43m'\u001b[39;49m\u001b[38;5;124;43mcur_temp\u001b[39;49m\u001b[38;5;124;43m'\u001b[39;49m\u001b[43m}\u001b[49m\u001b[43m)\u001b[49m\u001b[38;5;241;43m.\u001b[39;49m\u001b[43mtext\u001b[49m)\n\u001b[0;32m     13\u001b[0m pressure \u001b[38;5;241m=\u001b[39m \u001b[38;5;28mfloat\u001b[39m(soup\u001b[38;5;241m.\u001b[39mfind(\u001b[38;5;124m'\u001b[39m\u001b[38;5;124mtd\u001b[39m\u001b[38;5;124m'\u001b[39m, {\u001b[38;5;124m'\u001b[39m\u001b[38;5;124mid\u001b[39m\u001b[38;5;124m'\u001b[39m: \u001b[38;5;124m'\u001b[39m\u001b[38;5;124mcur_press\u001b[39m\u001b[38;5;124m'\u001b[39m})\u001b[38;5;241m.\u001b[39mtext)\n\u001b[0;32m     14\u001b[0m humidity \u001b[38;5;241m=\u001b[39m \u001b[38;5;28mfloat\u001b[39m(soup\u001b[38;5;241m.\u001b[39mfind(\u001b[38;5;124m'\u001b[39m\u001b[38;5;124mtd\u001b[39m\u001b[38;5;124m'\u001b[39m, {\u001b[38;5;124m'\u001b[39m\u001b[38;5;124mid\u001b[39m\u001b[38;5;124m'\u001b[39m: \u001b[38;5;124m'\u001b[39m\u001b[38;5;124mcur_hum\u001b[39m\u001b[38;5;124m'\u001b[39m})\u001b[38;5;241m.\u001b[39mtext)\n",
      "\u001b[1;31mAttributeError\u001b[0m: 'NoneType' object has no attribute 'text'"
     ]
    }
   ],
   "source": [
    "def save_data_to_db(data):\n",
    "    conn = sqlite3.connect('air_quality.db')\n",
    "    cursor = conn.cursor()\n",
    "\n",
    "    # Thêm bản ghi vào bảng\n",
    "    cursor.execute('''\n",
    "    INSERT INTO air_quality (date, city, pm25, temperature, pressure, humidity, wind)\n",
    "    VALUES (?, ?, ?, ?, ?, ?, ?)\n",
    "    ''', data)\n",
    "\n",
    "    conn.commit()\n",
    "    conn.close()\n",
    "\n",
    "# Lấy dữ liệu và lưu vào database\n",
    "data = get_air_quality_data()\n",
    "save_data_to_db(data)\n",
    "\n",
    "print(\"Dữ liệu đã được lưu thành công!\")\n"
   ]
  }
 ],
 "metadata": {
  "kernelspec": {
   "display_name": "Python 3",
   "language": "python",
   "name": "python3"
  },
  "language_info": {
   "codemirror_mode": {
    "name": "ipython",
    "version": 3
   },
   "file_extension": ".py",
   "mimetype": "text/x-python",
   "name": "python",
   "nbconvert_exporter": "python",
   "pygments_lexer": "ipython3",
   "version": "3.11.6"
  }
 },
 "nbformat": 4,
 "nbformat_minor": 2
}
