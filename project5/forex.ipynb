{
 "cells": [
  {
   "cell_type": "code",
   "execution_count": 6,
   "metadata": {},
   "outputs": [],
   "source": [
    "from selenium import webdriver\n",
    "from selenium.webdriver.chrome.service import Service\n",
    "from selenium.webdriver.common.by import By\n",
    "import re\n",
    "import time\n",
    "import sqlite3"
   ]
  },
  {
   "cell_type": "code",
   "execution_count": 8,
   "metadata": {},
   "outputs": [],
   "source": [
    "# 1. Thu thập dữ liệu\n",
    "# Khởi tạo Webdriver\n",
    "\n",
    "# Đường dẫn đến file thực thi geckodriver\n",
    "gecko_path = r\"C:\\Users\\Admin\\OneDrive\\Tài liệu\\GitHub\\Ma_nguon_mo_khoa\\project5\\geckodriver.exe\"\n",
    "\n",
    "# Khởi tởi đối tượng dịch vụ với đường geckodriver\n",
    "ser = Service(gecko_path)\n",
    "\n",
    "# Tạo tùy chọn\n",
    "options = webdriver.firefox.options.Options()\n",
    "options.binary_location =\"C:/Program Files/Mozilla Firefox/firefox.exe\"\n",
    "# Thiết lập firefox chỉ hiện thị giao diện\n",
    "options.headless = False\n",
    "\n",
    "# Khởi tạo driver\n",
    "driver = webdriver.Firefox(options=options, service=ser)\n",
    "# Truy cập trang web cần lấy dữ liệu\n",
    "driver.get(\"https://iboard.ssi.com.vn/\")\n",
    "time.sleep(5)"
   ]
  },
  {
   "cell_type": "code",
   "execution_count": null,
   "metadata": {},
   "outputs": [],
   "source": [
    "#cuộn xuốn"
   ]
  }
 ],
 "metadata": {
  "kernelspec": {
   "display_name": "Python 3",
   "language": "python",
   "name": "python3"
  },
  "language_info": {
   "codemirror_mode": {
    "name": "ipython",
    "version": 3
   },
   "file_extension": ".py",
   "mimetype": "text/x-python",
   "name": "python",
   "nbconvert_exporter": "python",
   "pygments_lexer": "ipython3",
   "version": "3.11.6"
  }
 },
 "nbformat": 4,
 "nbformat_minor": 2
}
